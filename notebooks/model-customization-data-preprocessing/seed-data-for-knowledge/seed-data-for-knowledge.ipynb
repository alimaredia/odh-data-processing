{
 "cells": [
  {
   "cell_type": "markdown",
   "id": "b320d737-0c9c-4023-8959-d4f816b5deac",
   "metadata": {},
   "source": [
    "# Seed Data Creation for SDG"
   ]
  },
  {
   "cell_type": "markdown",
   "id": "cd24be75-085f-4949-96f6-a8e15f081e72",
   "metadata": {},
   "source": [
    "This step creates the seed data for SDG. This data is a JSON file that contains a combination of the `seed_examples` in the `qna.yaml` and the chunks from the source document. \n",
    "\n",
    "Intermediate seed data files are created for each contribution with the contribution's name included in the file name. For example for the `nfl` contribution, a file containing seed data called `seed_data-nfl.jsonl`. This file contains a combination of all of the chunks from the NFL source documents and the seed examples in the `qna.yaml` for `nfl`.\n",
    "\n",
    "After seed data files are created for each contribution, a final `seed_data.jsonl`. This file is a concatenation of all of the intermediate `seed_data-{contribution name}.jsonl` files and should be used as an input to SDG."
   ]
  },
  {
   "cell_type": "code",
   "execution_count": 1,
   "id": "0b588ec4-e929-43ff-91ce-79a04352b728",
   "metadata": {},
   "outputs": [],
   "source": [
    "!pip install -qq datasets transformers"
   ]
  },
  {
   "cell_type": "code",
   "execution_count": 9,
   "id": "5e12c859-e4fb-4185-a65a-33347d773d24",
   "metadata": {},
   "outputs": [
    {
     "data": {
      "application/vnd.jupyter.widget-view+json": {
       "model_id": "b50f2cabb99f4f1194acae43032b05b1",
       "version_major": 2,
       "version_minor": 0
      },
      "text/plain": [
       "Map:   0%|          | 0/23 [00:00<?, ? examples/s]"
      ]
     },
     "metadata": {},
     "output_type": "display_data"
    },
    {
     "data": {
      "application/vnd.jupyter.widget-view+json": {
       "model_id": "a540edc7f7264f04a21bfef660de8c61",
       "version_major": 2,
       "version_minor": 0
      },
      "text/plain": [
       "Map:   0%|          | 0/23 [00:00<?, ? examples/s]"
      ]
     },
     "metadata": {},
     "output_type": "display_data"
    },
    {
     "data": {
      "application/vnd.jupyter.widget-view+json": {
       "model_id": "98651c2a757448e68fa37a2e88094f4d",
       "version_major": 2,
       "version_minor": 0
      },
      "text/plain": [
       "Map:   0%|          | 0/23 [00:00<?, ? examples/s]"
      ]
     },
     "metadata": {},
     "output_type": "display_data"
    },
    {
     "data": {
      "application/vnd.jupyter.widget-view+json": {
       "model_id": "f211c0801b0146788bdc0163da501f51",
       "version_major": 2,
       "version_minor": 0
      },
      "text/plain": [
       "Map:   0%|          | 0/23 [00:00<?, ? examples/s]"
      ]
     },
     "metadata": {},
     "output_type": "display_data"
    },
    {
     "data": {
      "application/vnd.jupyter.widget-view+json": {
       "model_id": "157dba900c47444eb5966594feded1e2",
       "version_major": 2,
       "version_minor": 0
      },
      "text/plain": [
       "Map:   0%|          | 0/23 [00:00<?, ? examples/s]"
      ]
     },
     "metadata": {},
     "output_type": "display_data"
    },
    {
     "data": {
      "application/vnd.jupyter.widget-view+json": {
       "model_id": "caad90b7bea5462392a1b03c5b22e214",
       "version_major": 2,
       "version_minor": 0
      },
      "text/plain": [
       "Filter:   0%|          | 0/115 [00:00<?, ? examples/s]"
      ]
     },
     "metadata": {},
     "output_type": "display_data"
    },
    {
     "data": {
      "application/vnd.jupyter.widget-view+json": {
       "model_id": "4fd488410ef54b5eb1d5c1629d6506c1",
       "version_major": 2,
       "version_minor": 0
      },
      "text/plain": [
       "Map:   0%|          | 0/26 [00:00<?, ? examples/s]"
      ]
     },
     "metadata": {},
     "output_type": "display_data"
    },
    {
     "data": {
      "application/vnd.jupyter.widget-view+json": {
       "model_id": "dd3e99879f6849179e0d9eb9e8e78c36",
       "version_major": 2,
       "version_minor": 0
      },
      "text/plain": [
       "Map:   0%|          | 0/26 [00:00<?, ? examples/s]"
      ]
     },
     "metadata": {},
     "output_type": "display_data"
    },
    {
     "data": {
      "application/vnd.jupyter.widget-view+json": {
       "model_id": "fdfff8720e8c492a93aa42804294e620",
       "version_major": 2,
       "version_minor": 0
      },
      "text/plain": [
       "Map:   0%|          | 0/26 [00:00<?, ? examples/s]"
      ]
     },
     "metadata": {},
     "output_type": "display_data"
    },
    {
     "data": {
      "application/vnd.jupyter.widget-view+json": {
       "model_id": "2c112fc5b6cd4f80bcfb5e59d51d4072",
       "version_major": 2,
       "version_minor": 0
      },
      "text/plain": [
       "Map:   0%|          | 0/26 [00:00<?, ? examples/s]"
      ]
     },
     "metadata": {},
     "output_type": "display_data"
    },
    {
     "data": {
      "application/vnd.jupyter.widget-view+json": {
       "model_id": "23ed94749f31472da923f08591d76dca",
       "version_major": 2,
       "version_minor": 0
      },
      "text/plain": [
       "Map:   0%|          | 0/26 [00:00<?, ? examples/s]"
      ]
     },
     "metadata": {},
     "output_type": "display_data"
    },
    {
     "data": {
      "application/vnd.jupyter.widget-view+json": {
       "model_id": "4ad7029985444235b465381cd97e0c06",
       "version_major": 2,
       "version_minor": 0
      },
      "text/plain": [
       "Filter:   0%|          | 0/130 [00:00<?, ? examples/s]"
      ]
     },
     "metadata": {},
     "output_type": "display_data"
    },
    {
     "data": {
      "application/vnd.jupyter.widget-view+json": {
       "model_id": "5a00b31379a2490ead6de72436fd82d0",
       "version_major": 2,
       "version_minor": 0
      },
      "text/plain": [
       "Creating json from Arrow format:   0%|          | 0/1 [00:00<?, ?ba/s]"
      ]
     },
     "metadata": {},
     "output_type": "display_data"
    },
    {
     "name": "stdout",
     "output_type": "stream",
     "text": [
      "Final seed data contains 245 rows\n",
      "Final seed data for SDG saved to: sample-contributions/nfl/seed_data-nfl.jsonl\n"
     ]
    }
   ],
   "source": [
    "from utils.create_seed_dataset import get_seed_dataset, safe_concatenate_datasets\n",
    "from pathlib import Path\n",
    "\n",
    "chunks_dir = Path(\"sample-contributions/nfl\")\n",
    "yaml_dir = Path(\"sample-contributions/nfl\")\n",
    "\n",
    "seed_data = get_seed_dataset(chunks_dir, yaml_dir)\n",
    "output_path = Path(\"sample-contributions/nfl/seed_data-nfl.jsonl\")\n",
    "seed_data.to_json(output_path, orient='records', lines=True)\n",
    "\n",
    "# In the case where you have more than one contribution, you'd use one \n",
    "#contribution_datasets = [seed_data]\n",
    "#final_seed_data = safe_concatenate_datasets(contribution_datasets)\n",
    "#output_path = f'{WORKSPACE_DIR}/seed_data.jsonl'\n",
    "#final_seed_data.to_json(output_path, orient='records', lines=True)\n",
    "\n",
    "print(f\"Final seed data contains {seed_data.data.num_rows} rows\")\n",
    "print(f\"Final seed data for SDG saved to: {output_path}\")"
   ]
  },
  {
   "cell_type": "markdown",
   "id": "a55a0935-11fc-48a4-8866-f9376ebb01fb",
   "metadata": {},
   "source": [
    "### Inspect the seed data"
   ]
  },
  {
   "cell_type": "code",
   "execution_count": 8,
   "id": "ce1aa362-221a-4a40-b49b-b729194ebf59",
   "metadata": {},
   "outputs": [
    {
     "name": "stdout",
     "output_type": "stream",
     "text": [
      "pyarrow.Table\n",
      "document: string\n",
      "document_outline: string\n",
      "document_title: string\n",
      "domain: string\n",
      "icl_document: string\n",
      "icl_query_1: string\n",
      "icl_response_1: string\n",
      "icl_query_2: string\n",
      "icl_response_2: string\n",
      "icl_query_3: string\n",
      "icl_response_3: string\n",
      "----\n",
      "document: [[\"2022 OFFICIAL PLAYING RULES OF THE NATIONAL FOOTBALL LEAGUE\n",
      "Roger Goodell, Commissioner\"]]\n",
      "document_outline: [[\"Official playing rules of the National Football League 2022, 2023\"]]\n",
      "document_title: [[\"2022-nfl-rulebook\"]]\n",
      "domain: [[\"Sports Rules\"]]\n",
      "icl_document: [[\"\n",
      "A.R. 15.260 Line to gain on fourth down. Fourth-and-2 on B41. \n",
      "With 3:43 remaining in the fourth  (... 443 chars omitted)\"]]\n",
      "icl_query_1: [[\"What is the distance Team A needs to gain on fourth down?\"]]\n",
      "icl_response_1: [[\"Team A needs to gain 2 yards on fourth down.\"]]\n",
      "icl_query_2: [[\" What is the final spot of the ball and the team that is awarded possession\n",
      "after the play?\"]]\n",
      "icl_response_2: [[\"The ball is spotted at the B39 and Team B is awarded possession.\"]]\n",
      "icl_query_3: [[\"Why might the Team A coach choose to challenge the play?\"]]\n",
      "...\n"
     ]
    }
   ],
   "source": [
    "print(seed_data.data.table.slice(length=1))"
   ]
  },
  {
   "cell_type": "code",
   "execution_count": null,
   "id": "3ee005fd-54e6-4960-94c6-1c19204111f0",
   "metadata": {},
   "outputs": [],
   "source": []
  }
 ],
 "metadata": {
  "kernelspec": {
   "display_name": "Python 3 (ipykernel)",
   "language": "python",
   "name": "python3"
  },
  "language_info": {
   "codemirror_mode": {
    "name": "ipython",
    "version": 3
   },
   "file_extension": ".py",
   "mimetype": "text/x-python",
   "name": "python",
   "nbconvert_exporter": "python",
   "pygments_lexer": "ipython3",
   "version": "3.13.3"
  }
 },
 "nbformat": 4,
 "nbformat_minor": 5
}
